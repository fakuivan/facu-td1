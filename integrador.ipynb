{
 "metadata": {
  "language_info": {
   "codemirror_mode": {
    "name": "ipython",
    "version": 3
   },
   "file_extension": ".py",
   "mimetype": "text/x-python",
   "name": "python",
   "nbconvert_exporter": "python",
   "pygments_lexer": "ipython3",
   "version": "3.9.5"
  },
  "orig_nbformat": 4,
  "kernelspec": {
   "name": "coconut",
   "display_name": "Coconut",
   "language": "coconut"
  },
  "interpreter": {
   "hash": "36cf16204b8548560b1c020c4e8fb5b57f0e4c58016f52f2d4be01e192833930"
  }
 },
 "nbformat": 4,
 "nbformat_minor": 2,
 "cells": [
  {
   "cell_type": "code",
   "execution_count": 1,
   "source": [
    "from sympy import symbols, latex, solve, nsolve\n",
    "from more_itertools import one\n",
    "from functools import partial\n",
    "from IPython.display import display, Math\n",
    "\n",
    "display_tex = display..Math\n",
    "real_symbs = symbols$(real=True, positive=True)\n",
    "def destar(*args) = args\n",
    "inverse = (/)$(1)\n",
    "inverse_sum = inverse..sum..map$(inverse)..destar\n",
    "\n",
    "def solve_disp(*args):\n",
    "    *lr, var = args\n",
    "    eq = Eq(*lr) if len(lr) == 2 else one(lr)\n",
    "    sol = one(solve(eq, var))\n",
    "    display_tex(\n",
    "        f\"{{{latex(eq)}}}\"\n",
    "        r\" \\quad \\Rightarrow \\quad \"\n",
    "        f\"{{{latex(Eq(var, sol))}}}\")\n",
    "    return sol"
   ],
   "outputs": [],
   "metadata": {}
  },
  {
   "cell_type": "code",
   "execution_count": 2,
   "source": [
    "from sympy import Tuple\n",
    "r, vc, vcc, rint = real_symbs(\"R, V_{\\\\mathrm{control}}, V_{cc}, R_{\\\\mathrm{internal}}\")\n",
    "\n",
    "vc_0 = inverse_sum(2*rint, r)/(rint+inverse_sum(2*rint, r))*vcc\n",
    "vc_vcc = 2*rint/(2*rint+inverse_sum(rint, r))*vcc\n",
    "\n",
    "a_0 = vcc/vc_0\n",
    "a_vcc = vcc/vc_vcc\n",
    "\n",
    "Tuple(a_0.simplify(), a_vcc.simplify())"
   ],
   "outputs": [
    {
     "output_type": "execute_result",
     "data": {
      "text/plain": [
       "(3/2 + R_{\\mathrm{internal}}/R, (3*R/2 + R_{\\mathrm{internal}})/(R + R_{\\mathrm{internal}}))"
      ],
      "text/latex": [
       "$\\displaystyle \\left( \\frac{3}{2} + \\frac{R_{\\mathrm{internal}}}{R}, \\  \\frac{\\frac{3 R}{2} + R_{\\mathrm{internal}}}{R + R_{\\mathrm{internal}}}\\right)$"
      ]
     },
     "metadata": {},
     "execution_count": 2
    }
   ],
   "metadata": {}
  },
  {
   "cell_type": "code",
   "execution_count": 3,
   "source": [
    "from sympy import Eq, exp, solve, Rational as R\n",
    "t_h, t_l, tau, alpha = real_symbs(\"T_H T_L \\\\tau \\\\alpha\")\n",
    "vc_ = vcc/alpha\n",
    "alpha_ = solve_disp(vc, vc_, alpha)\n",
    "t_h_eq = Eq(vc, vcc*(1-exp(-t_h/tau))+vc/2*exp(-t_h/tau))\n",
    "t_h_ = solve_disp(t_h_eq.subs({vc: vc_}), t_h)"
   ],
   "outputs": [
    {
     "output_type": "display_data",
     "data": {
      "text/plain": [
       "<IPython.core.display.Math object>"
      ],
      "text/latex": [
       "$\\displaystyle {V_{\\mathrm{control}} = \\frac{V_{cc}}{\\alpha}} \\quad \\Rightarrow \\quad {\\alpha = \\frac{V_{cc}}{V_{\\mathrm{control}}}}$"
      ]
     },
     "metadata": {}
    },
    {
     "output_type": "display_data",
     "data": {
      "text/plain": [
       "<IPython.core.display.Math object>"
      ],
      "text/latex": [
       "$\\displaystyle {\\frac{V_{cc}}{\\alpha} = V_{cc} \\left(1 - e^{- \\frac{T_{H}}{\\tau}}\\right) + \\frac{V_{cc} e^{- \\frac{T_{H}}{\\tau}}}{2 \\alpha}} \\quad \\Rightarrow \\quad {T_{H} = \\tau \\log{\\left(\\frac{2 \\alpha - 1}{2 \\left(\\alpha - 1\\right)} \\right)}}$"
      ]
     },
     "metadata": {}
    }
   ],
   "metadata": {}
  },
  {
   "cell_type": "code",
   "execution_count": 4,
   "source": [
    "t_l_eq = Eq(R(\"1/2\"), exp(-t_l/tau))\n",
    "t_l_ = solve_disp(t_l_eq, t_l)\n"
   ],
   "outputs": [
    {
     "output_type": "display_data",
     "data": {
      "text/plain": [
       "<IPython.core.display.Math object>"
      ],
      "text/latex": [
       "$\\displaystyle {\\frac{1}{2} = e^{- \\frac{T_{L}}{\\tau}}} \\quad \\Rightarrow \\quad {T_{L} = \\tau \\log{\\left(2 \\right)}}$"
      ]
     },
     "metadata": {}
    }
   ],
   "metadata": {}
  },
  {
   "cell_type": "code",
   "execution_count": 5,
   "source": [
    "t = real_symbs(\"T\")\n",
    "t_ = t_h_ + t_l_\n",
    "alpha_ = solve_disp(t, t_, alpha)"
   ],
   "outputs": [
    {
     "output_type": "display_data",
     "data": {
      "text/plain": [
       "<IPython.core.display.Math object>"
      ],
      "text/latex": [
       "$\\displaystyle {T = \\tau \\log{\\left(\\frac{2 \\alpha - 1}{2 \\left(\\alpha - 1\\right)} \\right)} + \\tau \\log{\\left(2 \\right)}} \\quad \\Rightarrow \\quad {\\alpha = \\frac{e^{\\frac{T}{\\tau}} - 1}{e^{\\frac{T}{\\tau}} - 2}}$"
      ]
     },
     "metadata": {}
    }
   ],
   "metadata": {}
  },
  {
   "cell_type": "code",
   "execution_count": 6,
   "source": [
    "tf, ts = real_symbs(\"T_\\\\mathrm{fast} T_\\\\mathrm{slow}\")\n",
    "sys = Tuple(Eq(alpha_.subs({t: ts}), a_vcc.simplify()), Eq(alpha_.subs({t: tf}), a_0.simplify()))\n",
    "#solve(sys, tau, r)\n",
    "sys"
   ],
   "outputs": [
    {
     "output_type": "execute_result",
     "data": {
      "text/plain": [
       "(Eq((exp(T_\\mathrm{slow}/\\tau) - 1)/(exp(T_\\mathrm{slow}/\\tau) - 2), (3*R/2 + R_{\\mathrm{internal}})/(R + R_{\\mathrm{internal}})), Eq((exp(T_\\mathrm{fast}/\\tau) - 1)/(exp(T_\\mathrm{fast}/\\tau) - 2), 3/2 + R_{\\mathrm{internal}}/R))"
      ],
      "text/latex": [
       "$\\displaystyle \\left( \\frac{e^{\\frac{T_\\mathrm{slow}}{\\tau}} - 1}{e^{\\frac{T_\\mathrm{slow}}{\\tau}} - 2} = \\frac{\\frac{3 R}{2} + R_{\\mathrm{internal}}}{R + R_{\\mathrm{internal}}}, \\  \\frac{e^{\\frac{T_\\mathrm{fast}}{\\tau}} - 1}{e^{\\frac{T_\\mathrm{fast}}{\\tau}} - 2} = \\frac{3}{2} + \\frac{R_{\\mathrm{internal}}}{R}\\right)$"
      ]
     },
     "metadata": {},
     "execution_count": 6
    }
   ],
   "metadata": {}
  },
  {
   "cell_type": "code",
   "execution_count": 7,
   "source": [
    "r_ = solve_disp(sys[1], r)"
   ],
   "outputs": [
    {
     "output_type": "display_data",
     "data": {
      "text/plain": [
       "<IPython.core.display.Math object>"
      ],
      "text/latex": [
       "$\\displaystyle {\\frac{e^{\\frac{T_\\mathrm{fast}}{\\tau}} - 1}{e^{\\frac{T_\\mathrm{fast}}{\\tau}} - 2} = \\frac{3}{2} + \\frac{R_{\\mathrm{internal}}}{R}} \\quad \\Rightarrow \\quad {R = \\frac{2 R_{\\mathrm{internal}} \\left(2 - e^{\\frac{T_\\mathrm{fast}}{\\tau}}\\right)}{e^{\\frac{T_\\mathrm{fast}}{\\tau}} - 4}}$"
      ]
     },
     "metadata": {}
    }
   ],
   "metadata": {}
  },
  {
   "cell_type": "markdown",
   "source": [
    "This has no closed form solution, we'll need to use a numerical solving method"
   ],
   "metadata": {}
  },
  {
   "cell_type": "code",
   "execution_count": 8,
   "source": [
    "sys[0].subs({r: r_}).simplify()"
   ],
   "outputs": [
    {
     "output_type": "execute_result",
     "data": {
      "text/plain": [
       "Eq(2 - 2*exp(-T_\\mathrm{fast}/\\tau), (exp(T_\\mathrm{slow}/\\tau) - 1)/(exp(T_\\mathrm{slow}/\\tau) - 2))"
      ],
      "text/latex": [
       "$\\displaystyle 2 - 2 e^{- \\frac{T_\\mathrm{fast}}{\\tau}} = \\frac{e^{\\frac{T_\\mathrm{slow}}{\\tau}} - 1}{e^{\\frac{T_\\mathrm{slow}}{\\tau}} - 2}$"
      ]
     },
     "metadata": {},
     "execution_count": 8
    }
   ],
   "metadata": {}
  },
  {
   "cell_type": "code",
   "execution_count": 9,
   "source": [
    "from sympy.physics.units import Quantity, kg, m, seconds\n",
    "from sympy import Mul, pi, sqrt, Tuple\n",
    "from more_itertools import unzip\n",
    "\n",
    "def split_unit(expr if not expr.has(Quantity)) = (expr, 1)\n",
    "\n",
    "addpattern def split_unit(expr is Quantity) = (1, expr)\n",
    "\n",
    "addpattern def split_unit(expr is Mul):\n",
    "    factors, units = expr.args |> map$(split_unit) |> unzip\n",
    "    return prod(factors), prod(units) where:\n",
    "        prod = reduce$(*)\n",
    "\n",
    "addpattern def split_unit(expr) = (1, expr)\n",
    "\n",
    "kg*m/sqrt(pi)/seconds**2 |> split_unit |*> Tuple"
   ],
   "outputs": [
    {
     "output_type": "execute_result",
     "data": {
      "text/plain": [
       "(1/sqrt(pi), kilogram*meter/second**2)"
      ],
      "text/latex": [
       "$\\displaystyle \\left( \\frac{1}{\\sqrt{\\pi}}, \\  \\frac{\\text{kg} \\text{m}}{\\text{s}^{2}}\\right)$"
      ]
     },
     "metadata": {},
     "execution_count": 9
    }
   ],
   "metadata": {}
  },
  {
   "cell_type": "code",
   "execution_count": 10,
   "source": [
    "from sympy import Dict, Expr\n",
    "\n",
    "def my_nsolve(sys, vars, basis):\n",
    "    syms, inits = vars.items() |> unzip |> map$(list)\n",
    "    numerize = map$(basis.to_numeric$(as_expr=True))\n",
    "    sol = nsolve(numerize(sys), syms, numerize(inits))\n",
    "    to_unit_of = (quant, numeric) -> basis.to_symb(quant |> split_unit |> .[1], numeric)\n",
    "    return Dict({sym: to_unit_of(init, sol) for sol, sym, init in zip(sol, syms, inits)})"
   ],
   "outputs": [],
   "metadata": {}
  },
  {
   "cell_type": "code",
   "execution_count": 11,
   "source": [
    "from sympy import Dict\n",
    "from utils.units import basis, to_basis\n",
    "from utils.units.definitions import kHz, kohm, uF, nF, ohm\n",
    "from more_itertools import unzip\n",
    "\n",
    "vals = {rint: 5*kohm, ts: 1/(1.8*kHz), tf: 1/(2.3*kHz)}\n",
    "x0 = {tau: 1/(2.05*kHz), r: (10*kohm)}\n",
    "(vals, x0) |> map$(Dict) |*> Tuple"
   ],
   "outputs": [
    {
     "output_type": "execute_result",
     "data": {
      "text/plain": [
       "({R_{\\mathrm{internal}}: 5*kiloohm, T_\\mathrm{fast}: 0.434782608695652/kilohertz, T_\\mathrm{slow}: 0.555555555555556/kilohertz}, {R: 10*kiloohm, \\tau: 0.487804878048781/kilohertz})"
      ],
      "text/latex": [
       "$\\displaystyle \\left( \\left\\{ R_{\\mathrm{internal}} : 5 {k} {\\Omega}, \\  T_\\mathrm{fast} : \\frac{0.434782608695652}{{k} {\\text{Hz}}}, \\  T_\\mathrm{slow} : \\frac{0.555555555555556}{{k} {\\text{Hz}}}\\right\\}, \\  \\left\\{ R : 10 {k} {\\Omega}, \\  \\tau : \\frac{0.487804878048781}{{k} {\\text{Hz}}}\\right\\}\\right)$"
      ]
     },
     "metadata": {},
     "execution_count": 11
    }
   ],
   "metadata": {}
  },
  {
   "cell_type": "code",
   "execution_count": 12,
   "source": [
    "sol = my_nsolve(sys.subs(vals), x0, basis())\n",
    "sol"
   ],
   "outputs": [
    {
     "output_type": "execute_result",
     "data": {
      "text/plain": [
       "{R: 17.7819347492499*kiloohm, \\tau: 0.366016748307467/kilohertz}"
      ],
      "text/latex": [
       "$\\displaystyle \\left\\{ R : 17.7819347492499 {k} {\\Omega}, \\  \\tau : \\frac{0.366016748307467}{{k} {\\text{Hz}}}\\right\\}$"
      ]
     },
     "metadata": {},
     "execution_count": 12
    }
   ],
   "metadata": {}
  },
  {
   "cell_type": "code",
   "execution_count": 13,
   "source": [
    "from utils.units import to_basis\n",
    "from sympy.physics.units.systems import SI\n",
    "def uconv(quant, target, sys=SI) = to_basis(sys, quant)/to_basis(sys, target) |> .simplify() |> (*)$(target)"
   ],
   "outputs": [],
   "metadata": {}
  },
  {
   "cell_type": "markdown",
   "source": [
    "Adoptamos un valor de capacitor para obterner el valor de la resistencia que conforma la red RC"
   ],
   "metadata": {}
  },
  {
   "cell_type": "code",
   "execution_count": 14,
   "source": [
    "from sympy import symbols, Dict, N as approx\n",
    "from toolz import valmap\n",
    "r1, c1 = symbols(\"R_1 C_1\")\n",
    "c1_ = 10*nF\n",
    "{c1: c1_, r1: uconv(sol[tau]/c1_, kohm), r: sol[r]} |> valmap$(approx$(n=4)) |> Dict"
   ],
   "outputs": [
    {
     "output_type": "execute_result",
     "data": {
      "text/plain": [
       "{C_1: 10.0*nanofarad, R: 17.78*kiloohm, R_1: 36.6*kiloohm}"
      ],
      "text/latex": [
       "$\\displaystyle \\left\\{ C_{1} : 10.0 {n} {\\text{F}}, \\  R : 17.78 {k} {\\Omega}, \\  R_{1} : 36.6 {k} {\\Omega}\\right\\}$"
      ]
     },
     "metadata": {},
     "execution_count": 14
    }
   ],
   "metadata": {}
  }
 ]
}