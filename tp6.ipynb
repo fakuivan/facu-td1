{
 "metadata": {
  "language_info": {
   "codemirror_mode": {
    "name": "ipython",
    "version": 3
   },
   "file_extension": ".py",
   "mimetype": "text/x-python",
   "name": "python",
   "nbconvert_exporter": "python",
   "pygments_lexer": "ipython3",
   "version": "3.9.2"
  },
  "orig_nbformat": 2,
  "kernelspec": {
   "name": "python392jvsc74a57bd036cf16204b8548560b1c020c4e8fb5b57f0e4c58016f52f2d4be01e192833930",
   "display_name": "Python 3.9.2 64-bit"
  },
  "metadata": {
   "interpreter": {
    "hash": "36cf16204b8548560b1c020c4e8fb5b57f0e4c58016f52f2d4be01e192833930"
   }
  }
 },
 "nbformat": 4,
 "nbformat_minor": 2,
 "cells": [
  {
   "cell_type": "code",
   "execution_count": 19,
   "metadata": {},
   "outputs": [],
   "source": [
    "from itertools import chain, product\n",
    "from sympy import simplify, sympify, Matrix, Dummy\n",
    "from IPython.display import display\n",
    "ichain = chain.from_iterable\n",
    "\n",
    "X = lambda: Dummy('\\\\mathrm{X}')\n",
    "\n",
    "subst = lambda vals: lambda expr: sympify(expr).subs(vals)\n",
    "\n",
    "id = lambda x: x\n",
    "\n",
    "valmap = lambda func, dict: dict if func is id else {k: func(v) for k, v in dict.items()}\n",
    "\n",
    "prepend = lambda x, xs: chain((x,), xs)\n",
    "\n",
    "def zip_dicts(first, *rest):\n",
    "    keys = (*first.keys(),)\n",
    "    def check_keys(dict):\n",
    "        if set(keys) != set(dict.keys()):\n",
    "            raise ValueError('Dictionaries must all share the same set of keys')\n",
    "        return (dict[k] for k in keys)\n",
    "    return keys, map(check_keys, chain((first,), rest))\n",
    "\n",
    "truth_table = lambda n: product([False, True], repeat=n)\n",
    "\n",
    "var_truth_table = lambda *vars: (dict(zip(vars, values)) for values in truth_table(len(vars)))\n",
    "\n",
    "tabulated = lambda headers, *rows: Matrix([list(iter(row)) for row in prepend(headers, rows)])\n",
    "\n",
    "merge_subs = lambda exprs, subs: subs | valmap(subst(subs), exprs)\n",
    "\n",
    "self_subs = lambda eqs, n=1: self_subs(valmap(subst(eqs), eqs), n-1) if n > 0 else eqs\n",
    "\n",
    "states = lambda symbs: ichain((symb, Symbol(f\"{{{symb.name}}}'\")) for symb in symbs)\n",
    "\n",
    "simplify_ = simplify\n",
    "bobby_tables = lambda eqs, vars, simplify=False: tabulated(\n",
    "    *prepend(\n",
    "        *zip_dicts(\n",
    "            *(valmap(simplify_ if simplify else id, merge_subs(eqs, vals)\n",
    "                ) for vals in var_truth_table(*vars))\n",
    "            ))).subs({False: 0, True: 1})\n"
   ]
  },
  {
   "cell_type": "code",
   "execution_count": 20,
   "metadata": {},
   "outputs": [
    {
     "output_type": "display_data",
     "data": {
      "text/plain": "Matrix([\n[J, K, {Q}'],\n[0, 0,    Q],\n[0, 1,    0],\n[1, 0,    1],\n[1, 1,   ~Q]])",
      "text/latex": "$\\displaystyle \\left[\\begin{matrix}J & K & {Q}'\\\\0 & 0 & Q\\\\0 & 1 & 0\\\\1 & 0 & 1\\\\1 & 1 & \\neg Q\\end{matrix}\\right]$"
     },
     "metadata": {}
    },
    {
     "output_type": "display_data",
     "data": {
      "text/plain": "Matrix([\n[D, {Q}'],\n[0,    0],\n[1,    1]])",
      "text/latex": "$\\displaystyle \\left[\\begin{matrix}D & {Q}'\\\\0 & 0\\\\1 & 1\\end{matrix}\\right]$"
     },
     "metadata": {}
    },
    {
     "output_type": "execute_result",
     "data": {
      "text/plain": [
       "J & ~Q"
      ],
      "text/latex": "$\\displaystyle J \\wedge \\neg Q$"
     },
     "metadata": {},
     "execution_count": 20
    }
   ],
   "source": [
    "from sympy import symbols, Tuple, true, false\n",
    "q, qn = states(symbols('Q,'))\n",
    "d, j, k = symbols(\"D J K\")\n",
    "jk_ff = lambda q, j, k, clk=true: (q & ~k | ~q & j) & clk | q & ~clk\n",
    "d_ff = lambda q, d, clk=true: d & clk | q & ~clk\n",
    "\n",
    "display(bobby_tables({qn: jk_ff(q, j, k)}, (j, k), simplify=True))\n",
    "display(bobby_tables({qn: d_ff(q, d)}, (d,)))\n",
    "jk_ff(q, j, true)"
   ]
  },
  {
   "cell_type": "code",
   "execution_count": 21,
   "metadata": {},
   "outputs": [
    {
     "output_type": "execute_result",
     "data": {
      "text/plain": [
       "Matrix([\n",
       "[Q, J, K, {Q}'],\n",
       "[0, 0, 0,    0],\n",
       "[0, 0, 1,    0],\n",
       "[0, 1, 0,    1],\n",
       "[0, 1, 1,    1],\n",
       "[1, 0, 0,    1],\n",
       "[1, 0, 1,    0],\n",
       "[1, 1, 0,    1],\n",
       "[1, 1, 1,    0]])"
      ],
      "text/latex": "$\\displaystyle \\left[\\begin{matrix}Q & J & K & {Q}'\\\\0 & 0 & 0 & 0\\\\0 & 0 & 1 & 0\\\\0 & 1 & 0 & 1\\\\0 & 1 & 1 & 1\\\\1 & 0 & 0 & 1\\\\1 & 0 & 1 & 0\\\\1 & 1 & 0 & 1\\\\1 & 1 & 1 & 0\\end{matrix}\\right]$"
     },
     "metadata": {},
     "execution_count": 21
    }
   ],
   "source": [
    "from sympy import Eq, solve, true\n",
    "bobby_tables({qn: jk_ff(q, j, k)}, (q, j, k), simplify=True)\n",
    "\n",
    "# def solve_logic(expr, eq_to, deps, indeps):\n",
    "#     for (vdeps, vindeps) in product(truth_table(len(deps), truth_table(len(indeps))):\n",
    "#         substs = dict(ichain(zip(deps, vdeps), zip(indeps, vindeps)))\n",
    "#         veq_to = expr.subs(substs)\n",
    "\n",
    "# def solve_logic(expr, res, bound, free):\n",
    "#     def reducer(accum, value):\n",
    "#         result, free_values, bound_values = value\n",
    "#         key = (result, *free_values)\n",
    "#         if (same_result := accum.get(key, None)) is not None:\n",
    "            \n",
    "#         return accum | {(result, *free_values): }\n",
    "        \n",
    "\n"
   ]
  },
  {
   "cell_type": "code",
   "execution_count": 22,
   "metadata": {},
   "outputs": [
    {
     "output_type": "execute_result",
     "data": {
      "text/plain": [
       "Matrix([\n",
       "[A, Q_1, Q_2, D_1, J_2, K_2, {Q_1}', {Q_2}', Z],\n",
       "[0,   0,   0,   0,   0,   0,      0,      0, 0],\n",
       "[0,   0,   1,   0,   1,   1,      0,      0, 0],\n",
       "[0,   1,   0,   0,   0,   0,      0,      0, 0],\n",
       "[0,   1,   1,   0,   1,   1,      0,      0, 1],\n",
       "[1,   0,   0,   1,   0,   0,      1,      0, 0],\n",
       "[1,   0,   1,   1,   0,   0,      1,      1, 0],\n",
       "[1,   1,   0,   0,   1,   1,      0,      1, 0],\n",
       "[1,   1,   1,   1,   0,   0,      1,      1, 1]])"
      ],
      "text/latex": "$\\displaystyle \\left[\\begin{matrix}A & Q_{1} & Q_{2} & D_{1} & J_{2} & K_{2} & {Q_1}' & {Q_2}' & Z\\\\0 & 0 & 0 & 0 & 0 & 0 & 0 & 0 & 0\\\\0 & 0 & 1 & 0 & 1 & 1 & 0 & 0 & 0\\\\0 & 1 & 0 & 0 & 0 & 0 & 0 & 0 & 0\\\\0 & 1 & 1 & 0 & 1 & 1 & 0 & 0 & 1\\\\1 & 0 & 0 & 1 & 0 & 0 & 1 & 0 & 0\\\\1 & 0 & 1 & 1 & 0 & 0 & 1 & 1 & 0\\\\1 & 1 & 0 & 0 & 1 & 1 & 0 & 1 & 0\\\\1 & 1 & 1 & 1 & 0 & 0 & 1 & 1 & 1\\end{matrix}\\right]$"
     },
     "metadata": {},
     "execution_count": 22
    }
   ],
   "source": [
    "from sympy import symbols\n",
    "\n",
    "q1, q1n, q2, q2n = states(symbols('Q_1 Q_2'))\n",
    "d1, j2, k2, a, z = symbols(\"D_1 J_2 K_2 A Z\")\n",
    "\n",
    "input_eqs = {d1: (~q1 | q2) & a, j2: k2, k2: ~a & q2 | a & q1 & ~q2}\n",
    "output_eqs = {q1n: d_ff(q1, d1), q2n: jk_ff(q2, j2, k2), z: q1 & q2}\n",
    "\n",
    "list(map(lambda x: dict(zip([a, q1, q2], x)), truth_table(3)))\n",
    "\n",
    "bobby_tables(self_subs(input_eqs | output_eqs), (a, q1, q2))"
   ]
  },
  {
   "cell_type": "code",
   "execution_count": 23,
   "metadata": {},
   "outputs": [
    {
     "output_type": "display_data",
     "data": {
      "text/plain": "Matrix([\n[                                                             Eq(K_a, True)],\n[                                                             Eq(J_a, ~Q_c)],\n[                                                             Eq(K_b, True)],\n[                                                             Eq(J_b, True)],\n[                                                             Eq(K_c, True)],\n[                                                        Eq(J_c, Q_a & Q_b)],\n[                                               Eq({CLK_b}', Q_a & ~{Q_a}')],\n[                                   Eq({Q_a}', (J_a & ~Q_a) | (Q_a & ~K_a))],\n[Eq({Q_b}', (Q_b & ~{CLK_b}') | ({CLK_b}' & ((J_b & ~Q_b) | (Q_b & ~K_b))))],\n[                                   Eq({Q_c}', (J_c & ~Q_c) | (Q_c & ~K_c))]])",
      "text/latex": "$\\displaystyle \\left[\\begin{matrix}K_{a} = \\text{True}\\\\J_{a} = \\neg Q_{c}\\\\K_{b} = \\text{True}\\\\J_{b} = \\text{True}\\\\K_{c} = \\text{True}\\\\J_{c} = Q_{a} \\wedge Q_{b}\\\\{CLK_b}' = Q_{a} \\wedge \\neg {Q_a}'\\\\{Q_a}' = \\left(J_{a} \\wedge \\neg Q_{a}\\right) \\vee \\left(Q_{a} \\wedge \\neg K_{a}\\right)\\\\{Q_b}' = \\left(Q_{b} \\wedge \\neg {CLK_b}'\\right) \\vee \\left({CLK_b}' \\wedge \\left(\\left(J_{b} \\wedge \\neg Q_{b}\\right) \\vee \\left(Q_{b} \\wedge \\neg K_{b}\\right)\\right)\\right)\\\\{Q_c}' = \\left(J_{c} \\wedge \\neg Q_{c}\\right) \\vee \\left(Q_{c} \\wedge \\neg K_{c}\\right)\\end{matrix}\\right]$"
     },
     "metadata": {}
    },
    {
     "output_type": "execute_result",
     "data": {
      "text/plain": [
       "Matrix([\n",
       "[Q_a, Q_b, Q_c, K_a, J_a, K_b, J_b, K_c, J_c, {CLK_b}', {Q_a}', {Q_b}', {Q_c}'],\n",
       "[  0,   0,   0,   1,   1,   1,   1,   1,   0,        0,      1,      0,      0],\n",
       "[  0,   0,   1,   1,   0,   1,   1,   1,   0,        0,      0,      0,      0],\n",
       "[  0,   1,   0,   1,   1,   1,   1,   1,   0,        0,      1,      1,      0],\n",
       "[  0,   1,   1,   1,   0,   1,   1,   1,   0,        0,      0,      1,      0],\n",
       "[  1,   0,   0,   1,   1,   1,   1,   1,   0,        1,      0,      1,      0],\n",
       "[  1,   0,   1,   1,   0,   1,   1,   1,   0,        1,      0,      1,      0],\n",
       "[  1,   1,   0,   1,   1,   1,   1,   1,   1,        1,      0,      0,      1],\n",
       "[  1,   1,   1,   1,   0,   1,   1,   1,   1,        1,      0,      0,      0]])"
      ],
      "text/latex": "$\\displaystyle \\left[\\begin{array}{ccccccccccccc}Q_{a} & Q_{b} & Q_{c} & K_{a} & J_{a} & K_{b} & J_{b} & K_{c} & J_{c} & {CLK_b}' & {Q_a}' & {Q_b}' & {Q_c}'\\\\0 & 0 & 0 & 1 & 1 & 1 & 1 & 1 & 0 & 0 & 1 & 0 & 0\\\\0 & 0 & 1 & 1 & 0 & 1 & 1 & 1 & 0 & 0 & 0 & 0 & 0\\\\0 & 1 & 0 & 1 & 1 & 1 & 1 & 1 & 0 & 0 & 1 & 1 & 0\\\\0 & 1 & 1 & 1 & 0 & 1 & 1 & 1 & 0 & 0 & 0 & 1 & 0\\\\1 & 0 & 0 & 1 & 1 & 1 & 1 & 1 & 0 & 1 & 0 & 1 & 0\\\\1 & 0 & 1 & 1 & 0 & 1 & 1 & 1 & 0 & 1 & 0 & 1 & 0\\\\1 & 1 & 0 & 1 & 1 & 1 & 1 & 1 & 1 & 1 & 0 & 0 & 1\\\\1 & 1 & 1 & 1 & 0 & 1 & 1 & 1 & 1 & 1 & 0 & 0 & 0\\end{array}\\right]$"
     },
     "metadata": {},
     "execution_count": 23
    }
   ],
   "source": [
    "from sympy import symbols, sympify, true, Eq, Matrix\n",
    "\n",
    "ja, jb, jc, ka, kb, clkbn, kc = symbols(\"J_a J_b J_c K_a K_b {CLK_b}' K_c\")\n",
    "qa, qan, qb, qbn, qc, qcn = states(symbols('Q_a Q_b Q_c'))\n",
    "\n",
    "input_eqs = {\n",
    "    ka: true,\n",
    "    ja: ~qc,\n",
    "    kb: true,\n",
    "    jb: true,\n",
    "    kc: true,\n",
    "    jc: qb & qa,\n",
    "    clkbn: qa & ~qan\n",
    "}\n",
    "\n",
    "output_eqs = {\n",
    "    qan: jk_ff(qa, ja, ka),\n",
    "    qbn: jk_ff(qb, jb, kb, clk=clkbn),\n",
    "    qcn: jk_ff(qc, jc, kc)\n",
    "}\n",
    "\n",
    "dict_to_eqs = lambda dict: (Eq(k, v) for k, v in dict.items())\n",
    "\n",
    "display(Matrix([*dict_to_eqs(input_eqs | output_eqs)]))\n",
    "\n",
    "bobby_tables(self_subs(input_eqs | output_eqs, n=2), (qa, qb, qc))"
   ]
  },
  {
   "cell_type": "code",
   "execution_count": 29,
   "metadata": {},
   "outputs": [
    {
     "output_type": "display_data",
     "data": {
      "text/plain": "Matrix([\n[                Eq({Q_1}', (Q_2 & Q_3 & Q_4 & ~Q_1) | (Q_1 & ~Q_2 & ~Q_3 & ~Q_4) | (_\\mathrm{X} & ((Q_1 & Q_2) | (Q_1 & Q_3))))],\n[Eq({Q_2}', (Q_2 & ~Q_1 & ~Q_3) | (Q_2 & ~Q_1 & ~Q_4) | (Q_3 & Q_4 & ~Q_1 & ~Q_2) | (_\\mathrm{X} & ((Q_1 & Q_2) | (Q_1 & Q_3))))],\n[                            Eq({Q_3}', (Q_3 & ~Q_1 & ~Q_4) | (Q_4 & ~Q_1 & ~Q_3) | (_\\mathrm{X} & ((Q_1 & Q_2) | (Q_1 & Q_3))))],\n[                                 Eq({Q_4}', (~Q_1 & ~Q_4) | (~Q_2 & ~Q_3 & ~Q_4) | (_\\mathrm{X} & ((Q_1 & Q_2) | (Q_1 & Q_3))))]])",
      "text/latex": "$\\displaystyle \\left[\\begin{matrix}{Q_1}' = \\left(\\mathrm{X} \\wedge \\left(\\left(Q_{1} \\wedge Q_{2}\\right) \\vee \\left(Q_{1} \\wedge Q_{3}\\right)\\right)\\right) \\vee \\left(Q_{1} \\wedge \\neg Q_{2} \\wedge \\neg Q_{3} \\wedge \\neg Q_{4}\\right) \\vee \\left(Q_{2} \\wedge Q_{3} \\wedge Q_{4} \\wedge \\neg Q_{1}\\right)\\\\{Q_2}' = \\left(\\mathrm{X} \\wedge \\left(\\left(Q_{1} \\wedge Q_{2}\\right) \\vee \\left(Q_{1} \\wedge Q_{3}\\right)\\right)\\right) \\vee \\left(Q_{2} \\wedge \\neg Q_{1} \\wedge \\neg Q_{3}\\right) \\vee \\left(Q_{2} \\wedge \\neg Q_{1} \\wedge \\neg Q_{4}\\right) \\vee \\left(Q_{3} \\wedge Q_{4} \\wedge \\neg Q_{1} \\wedge \\neg Q_{2}\\right)\\\\{Q_3}' = \\left(\\mathrm{X} \\wedge \\left(\\left(Q_{1} \\wedge Q_{2}\\right) \\vee \\left(Q_{1} \\wedge Q_{3}\\right)\\right)\\right) \\vee \\left(Q_{3} \\wedge \\neg Q_{1} \\wedge \\neg Q_{4}\\right) \\vee \\left(Q_{4} \\wedge \\neg Q_{1} \\wedge \\neg Q_{3}\\right)\\\\{Q_4}' = \\left(\\mathrm{X} \\wedge \\left(\\left(Q_{1} \\wedge Q_{2}\\right) \\vee \\left(Q_{1} \\wedge Q_{3}\\right)\\right)\\right) \\vee \\left(\\neg Q_{1} \\wedge \\neg Q_{4}\\right) \\vee \\left(\\neg Q_{2} \\wedge \\neg Q_{3} \\wedge \\neg Q_{4}\\right)\\end{matrix}\\right]$"
     },
     "metadata": {}
    },
    {
     "output_type": "execute_result",
     "data": {
      "text/plain": [
       "Matrix([\n",
       "[Q_1, Q_2, Q_3, Q_4,      {Q_1}',      {Q_2}',      {Q_3}',      {Q_4}',         D_1,         D_2,         D_3,         D_4],\n",
       "[  0,   0,   0,   0,           0,           0,           0,           1,           0,           0,           0,           1],\n",
       "[  0,   0,   0,   1,           0,           0,           1,           0,           0,           0,           1,           0],\n",
       "[  0,   0,   1,   0,           0,           0,           1,           1,           0,           0,           1,           1],\n",
       "[  0,   0,   1,   1,           0,           1,           0,           0,           0,           1,           0,           0],\n",
       "[  0,   1,   0,   0,           0,           1,           0,           1,           0,           1,           0,           1],\n",
       "[  0,   1,   0,   1,           0,           1,           1,           0,           0,           1,           1,           0],\n",
       "[  0,   1,   1,   0,           0,           1,           1,           1,           0,           1,           1,           1],\n",
       "[  0,   1,   1,   1,           1,           0,           0,           0,           1,           0,           0,           0],\n",
       "[  1,   0,   0,   0,           1,           0,           0,           1,           1,           0,           0,           1],\n",
       "[  1,   0,   0,   1,           0,           0,           0,           0,           0,           0,           0,           0],\n",
       "[  1,   0,   1,   0, _\\mathrm{X}, _\\mathrm{X}, _\\mathrm{X}, _\\mathrm{X}, _\\mathrm{X}, _\\mathrm{X}, _\\mathrm{X}, _\\mathrm{X}],\n",
       "[  1,   0,   1,   1, _\\mathrm{X}, _\\mathrm{X}, _\\mathrm{X}, _\\mathrm{X}, _\\mathrm{X}, _\\mathrm{X}, _\\mathrm{X}, _\\mathrm{X}],\n",
       "[  1,   1,   0,   0, _\\mathrm{X}, _\\mathrm{X}, _\\mathrm{X}, _\\mathrm{X}, _\\mathrm{X}, _\\mathrm{X}, _\\mathrm{X}, _\\mathrm{X}],\n",
       "[  1,   1,   0,   1, _\\mathrm{X}, _\\mathrm{X}, _\\mathrm{X}, _\\mathrm{X}, _\\mathrm{X}, _\\mathrm{X}, _\\mathrm{X}, _\\mathrm{X}],\n",
       "[  1,   1,   1,   0, _\\mathrm{X}, _\\mathrm{X}, _\\mathrm{X}, _\\mathrm{X}, _\\mathrm{X}, _\\mathrm{X}, _\\mathrm{X}, _\\mathrm{X}],\n",
       "[  1,   1,   1,   1, _\\mathrm{X}, _\\mathrm{X}, _\\mathrm{X}, _\\mathrm{X}, _\\mathrm{X}, _\\mathrm{X}, _\\mathrm{X}, _\\mathrm{X}]])"
      ],
      "text/latex": "$\\displaystyle \\left[\\begin{array}{cccccccccccc}Q_{1} & Q_{2} & Q_{3} & Q_{4} & {Q_1}' & {Q_2}' & {Q_3}' & {Q_4}' & D_{1} & D_{2} & D_{3} & D_{4}\\\\0 & 0 & 0 & 0 & 0 & 0 & 0 & 1 & 0 & 0 & 0 & 1\\\\0 & 0 & 0 & 1 & 0 & 0 & 1 & 0 & 0 & 0 & 1 & 0\\\\0 & 0 & 1 & 0 & 0 & 0 & 1 & 1 & 0 & 0 & 1 & 1\\\\0 & 0 & 1 & 1 & 0 & 1 & 0 & 0 & 0 & 1 & 0 & 0\\\\0 & 1 & 0 & 0 & 0 & 1 & 0 & 1 & 0 & 1 & 0 & 1\\\\0 & 1 & 0 & 1 & 0 & 1 & 1 & 0 & 0 & 1 & 1 & 0\\\\0 & 1 & 1 & 0 & 0 & 1 & 1 & 1 & 0 & 1 & 1 & 1\\\\0 & 1 & 1 & 1 & 1 & 0 & 0 & 0 & 1 & 0 & 0 & 0\\\\1 & 0 & 0 & 0 & 1 & 0 & 0 & 1 & 1 & 0 & 0 & 1\\\\1 & 0 & 0 & 1 & 0 & 0 & 0 & 0 & 0 & 0 & 0 & 0\\\\1 & 0 & 1 & 0 & \\mathrm{X} & \\mathrm{X} & \\mathrm{X} & \\mathrm{X} & \\mathrm{X} & \\mathrm{X} & \\mathrm{X} & \\mathrm{X}\\\\1 & 0 & 1 & 1 & \\mathrm{X} & \\mathrm{X} & \\mathrm{X} & \\mathrm{X} & \\mathrm{X} & \\mathrm{X} & \\mathrm{X} & \\mathrm{X}\\\\1 & 1 & 0 & 0 & \\mathrm{X} & \\mathrm{X} & \\mathrm{X} & \\mathrm{X} & \\mathrm{X} & \\mathrm{X} & \\mathrm{X} & \\mathrm{X}\\\\1 & 1 & 0 & 1 & \\mathrm{X} & \\mathrm{X} & \\mathrm{X} & \\mathrm{X} & \\mathrm{X} & \\mathrm{X} & \\mathrm{X} & \\mathrm{X}\\\\1 & 1 & 1 & 0 & \\mathrm{X} & \\mathrm{X} & \\mathrm{X} & \\mathrm{X} & \\mathrm{X} & \\mathrm{X} & \\mathrm{X} & \\mathrm{X}\\\\1 & 1 & 1 & 1 & \\mathrm{X} & \\mathrm{X} & \\mathrm{X} & \\mathrm{X} & \\mathrm{X} & \\mathrm{X} & \\mathrm{X} & \\mathrm{X}\\end{array}\\right]$"
     },
     "metadata": {},
     "execution_count": 29
    }
   ],
   "source": [
    "from sympy import symbols, Symbol\n",
    "from sympy.logic import SOPform\n",
    "from functools import reduce\n",
    "\n",
    "states2 = lambda symbs: ((symb, Symbol(f\"{{{symb.name}}}'\")) for symb in symbs)\n",
    "\n",
    "current_states = symbols(\"Q_1 Q_2 Q_3 Q_4\")\n",
    "*input_vars, = (symbols(f'J_{n} K_{n} D_{n}') for n in range(1, 5))\n",
    "*state_pairs, = states2(current_states)\n",
    "q1, q1n, q2, q2n, q3, q3n, q4, q4n = ichain(state_pairs)\n",
    "invalid_states = [10, 11, 12, 13, 14, 15]\n",
    "is_invalid = SOPform(current_states, invalid_states) & X()\n",
    "\n",
    "nexts = {\n",
    "    q1n: SOPform(current_states, [7, 8]) | is_invalid,\n",
    "    q2n: SOPform(current_states, [3, 4, 5, 6]) | is_invalid,\n",
    "    q3n: SOPform(current_states, [1, 2, 5, 6]) | is_invalid,\n",
    "    q4n: SOPform(current_states, [0, 2, 4, 6, 8]) | is_invalid,\n",
    "}\n",
    "\n",
    "\n",
    "inputs = reduce(\n",
    "    lambda a, b: a | b,\n",
    "    ({j: j_inv(q, qn), k: k_inv(q, qn), d: d_inv(q, qn)\n",
    "        } for (j, k, d), (q, qn) in zip(input_vars, state_pairs)),\n",
    ")\n",
    "\n",
    "display(Matrix([*dict_to_eqs(nexts)]))\n",
    "\n",
    "bobby_tables(self_subs(nexts | inputs), current_states)"
   ]
  },
  {
   "cell_type": "code",
   "execution_count": 27,
   "metadata": {},
   "outputs": [
    {
     "output_type": "stream",
     "name": "stdout",
     "text": [
      "(x, {x: y})\n"
     ]
    }
   ],
   "source": [
    "from sympy.logic import bool_map\n",
    "from sympy.abc import x, y ,z, a, b, c\n",
    "\n",
    "q, qn = states(symbols('Q,'))\n",
    "j, k = symbols(\"J K\")\n",
    "\n",
    "print(bool_map(x, y))\n",
    "\n",
    "j_inv = lambda q, qn, x=X: q & x() | ~q & qn\n",
    "k_inv = lambda q, qn, x=X: ~q & x() | q & ~qn\n",
    "#def j_sop \n",
    "bobby_tables({j: j_inv(q, qn), k: k_inv(q, qn)}, (q, qn))\n",
    "d_inv = lambda q, qn: qn\n"
   ]
  },
  {
   "cell_type": "code",
   "execution_count": null,
   "metadata": {},
   "outputs": [],
   "source": []
  }
 ]
}